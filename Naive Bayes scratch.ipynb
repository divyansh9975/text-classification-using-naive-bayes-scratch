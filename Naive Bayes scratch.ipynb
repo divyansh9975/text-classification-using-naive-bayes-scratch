{
 "cells": [
  {
   "cell_type": "code",
   "execution_count": 1,
   "id": "29c98879",
   "metadata": {},
   "outputs": [],
   "source": [
    "import numpy as np"
   ]
  },
  {
   "cell_type": "code",
   "execution_count": 2,
   "id": "a4c63204",
   "metadata": {},
   "outputs": [],
   "source": [
    "def fit(X_train,Y_train):\n",
    "    result={}\n",
    "    unique_class=set(Y_train)\n",
    "    for current_class in unique_class:\n",
    "        result[current_class]={}\n",
    "        result[\"total_data\"]=len(Y_train)\n",
    "        current_class_rows=(Y_train==current_class)\n",
    "        X_train_current=X_train[current_class_rows]\n",
    "        Y_train_current=Y_train[current_class_rows]\n",
    "        result[current_class][\"total_count_current_class\"]=len(Y_train_current)\n",
    "        num_features=X_train.shape[1]\n",
    "        for j in range(1,num_features+1):\n",
    "            all_possible_jth_value=set(X_train[:,j-1])\n",
    "            result[current_class][j]={}\n",
    "            \n",
    "            for current_value in all_possible_jth_value:\n",
    "                result[current_class][j][current_value]=(X_train_current[:,j-1]==current_value).sum()\n",
    "    \n",
    "    return result\n",
    "            "
   ]
  },
  {
   "cell_type": "code",
   "execution_count": 3,
   "id": "261585c4",
   "metadata": {},
   "outputs": [],
   "source": [
    "def probability(dictionary, x, current_class):\n",
    "    output = np.log(dictionary[current_class][\"total_count_current_class\"]) - np.log(dictionary[\"total_data\"])\n",
    "    num_features = len(dictionary[current_class].keys()) - 1;\n",
    "    for j in range(1, num_features + 1):\n",
    "        xj = x[j - 1]\n",
    "        count_current_class_with_value_xj = dictionary[current_class][j][xj] + 1\n",
    "        count_current_class = dictionary[current_class][\"total_count_current_class\"] + len(dictionary[current_class][j].keys())\n",
    "        current_xj_probablity = np.log(count_current_class_with_value_xj) - np.log(count_current_class)\n",
    "        output = output + current_xj_probablity\n",
    "    return output"
   ]
  },
  {
   "cell_type": "code",
   "execution_count": 4,
   "id": "a17b98ec",
   "metadata": {},
   "outputs": [],
   "source": [
    "def predictSinglePoint(dictionary, x):\n",
    "    classes = dictionary.keys()\n",
    "    best_p = -1000\n",
    "    best_class = -1\n",
    "    first_run = True\n",
    "    for current_class in classes:\n",
    "        if (current_class == \"total_data\"):\n",
    "            continue\n",
    "        p_current_class = probability(dictionary, x, current_class)\n",
    "        if (first_run or p_current_class > best_p):\n",
    "            best_p = p_current_class\n",
    "            best_class = current_class\n",
    "        first_run = False\n",
    "    return best_class"
   ]
  },
  {
   "cell_type": "code",
   "execution_count": 5,
   "id": "7ca1d835",
   "metadata": {},
   "outputs": [],
   "source": [
    "def predict(dictionary, X_test):\n",
    "    y_pred = []\n",
    "    for x in X_test:\n",
    "        x_class = predictSinglePoint(dictionary, x)\n",
    "        y_pred.append(x_class)\n",
    "    return y_pred"
   ]
  },
  {
   "cell_type": "code",
   "execution_count": 6,
   "id": "3895a32c",
   "metadata": {},
   "outputs": [],
   "source": [
    "def makelabelled(column):\n",
    "    second_limit=column.mean()\n",
    "    first_limit=0.5*second_limit\n",
    "    third_limit=1.5*second_limit\n",
    "    \n",
    "    for i in range(0,len(column)):\n",
    "        if(column[i]<first_limit):\n",
    "            column[i]=0\n",
    "        elif(column[i]<second_limit):\n",
    "            column[i]=1\n",
    "        elif(column[i]<third_limit):\n",
    "            column[i]=2\n",
    "        else:\n",
    "            column[i]=3\n",
    "    return column"
   ]
  },
  {
   "cell_type": "code",
   "execution_count": 7,
   "id": "cdfe586a",
   "metadata": {},
   "outputs": [],
   "source": [
    "from sklearn import datasets"
   ]
  },
  {
   "cell_type": "code",
   "execution_count": 8,
   "id": "2ed47ccd",
   "metadata": {},
   "outputs": [],
   "source": [
    "iris=datasets.load_iris()\n",
    "X=iris.data\n",
    "Y=iris.target"
   ]
  },
  {
   "cell_type": "code",
   "execution_count": 9,
   "id": "16513926",
   "metadata": {},
   "outputs": [],
   "source": [
    "for i in range(0,X.shape[-1]):\n",
    "    X[:,i]=makelabelled(X[:,i])\n",
    "    "
   ]
  },
  {
   "cell_type": "code",
   "execution_count": null,
   "id": "2f35753c",
   "metadata": {},
   "outputs": [],
   "source": []
  },
  {
   "cell_type": "code",
   "execution_count": 10,
   "id": "8637c060",
   "metadata": {},
   "outputs": [],
   "source": [
    "from sklearn import model_selection\n",
    "X_train,X_test,Y_train,Y_test=model_selection.train_test_split(X,Y,random_state=42)"
   ]
  },
  {
   "cell_type": "code",
   "execution_count": 11,
   "id": "24aa1dce",
   "metadata": {},
   "outputs": [],
   "source": [
    "dictionary=fit(X_train,Y_train)"
   ]
  },
  {
   "cell_type": "code",
   "execution_count": 12,
   "id": "1ab774b4",
   "metadata": {},
   "outputs": [
    {
     "data": {
      "text/plain": [
       "{0: {'total_count_current_class': 35,\n",
       "  1: {1.0: 35, 2.0: 0},\n",
       "  2: {1.0: 6, 2.0: 29},\n",
       "  3: {0.0: 33, 1.0: 2, 2.0: 0, 3.0: 0},\n",
       "  4: {0.0: 34, 1.0: 1, 2.0: 0, 3.0: 0}},\n",
       " 'total_data': 112,\n",
       " 1: {'total_count_current_class': 39,\n",
       "  1: {1.0: 20, 2.0: 19},\n",
       "  2: {1.0: 34, 2.0: 5},\n",
       "  3: {0.0: 0, 1.0: 6, 2.0: 33, 3.0: 0},\n",
       "  4: {0.0: 0, 1.0: 9, 2.0: 29, 3.0: 1}},\n",
       " 2: {'total_count_current_class': 38,\n",
       "  1: {1.0: 6, 2.0: 32},\n",
       "  2: {1.0: 25, 2.0: 13},\n",
       "  3: {0.0: 0, 1.0: 0, 2.0: 24, 3.0: 14},\n",
       "  4: {0.0: 0, 1.0: 0, 2.0: 5, 3.0: 33}}}"
      ]
     },
     "execution_count": 12,
     "metadata": {},
     "output_type": "execute_result"
    }
   ],
   "source": [
    "dictionary"
   ]
  },
  {
   "cell_type": "code",
   "execution_count": 13,
   "id": "8e30a04f",
   "metadata": {},
   "outputs": [],
   "source": [
    "y_pred=predict(dictionary,X_test)"
   ]
  },
  {
   "cell_type": "code",
   "execution_count": 14,
   "id": "31365a6e",
   "metadata": {},
   "outputs": [
    {
     "name": "stdout",
     "output_type": "stream",
     "text": [
      "              precision    recall  f1-score   support\n",
      "\n",
      "           0       1.00      1.00      1.00        15\n",
      "           1       1.00      1.00      1.00        11\n",
      "           2       1.00      1.00      1.00        12\n",
      "\n",
      "    accuracy                           1.00        38\n",
      "   macro avg       1.00      1.00      1.00        38\n",
      "weighted avg       1.00      1.00      1.00        38\n",
      "\n",
      "[[15  0  0]\n",
      " [ 0 11  0]\n",
      " [ 0  0 12]]\n"
     ]
    }
   ],
   "source": [
    "from sklearn.metrics import classification_report,confusion_matrix\n",
    "print(classification_report(Y_test,y_pred))\n",
    "print(confusion_matrix(Y_test,y_pred))"
   ]
  },
  {
   "cell_type": "code",
   "execution_count": 15,
   "id": "b9b94424",
   "metadata": {},
   "outputs": [
    {
     "name": "stdout",
     "output_type": "stream",
     "text": [
      "[ True  True  True  True  True  True  True  True  True  True  True  True\n",
      "  True  True  True  True  True  True  True  True  True  True  True  True\n",
      "  True  True  True  True  True  True  True  True  True  True  True  True\n",
      "  True  True]\n"
     ]
    }
   ],
   "source": [
    "print(y_pred==Y_test)"
   ]
  },
  {
   "cell_type": "code",
   "execution_count": 16,
   "id": "5779defd",
   "metadata": {},
   "outputs": [
    {
     "name": "stdout",
     "output_type": "stream",
     "text": [
      "[2. 1. 2. 2.]\n"
     ]
    }
   ],
   "source": [
    "for x in X_test:\n",
    "    print(x)\n",
    "    break"
   ]
  },
  {
   "cell_type": "code",
   "execution_count": null,
   "id": "f451bcb4",
   "metadata": {},
   "outputs": [],
   "source": []
  }
 ],
 "metadata": {
  "kernelspec": {
   "display_name": "Python 3 (ipykernel)",
   "language": "python",
   "name": "python3"
  },
  "language_info": {
   "codemirror_mode": {
    "name": "ipython",
    "version": 3
   },
   "file_extension": ".py",
   "mimetype": "text/x-python",
   "name": "python",
   "nbconvert_exporter": "python",
   "pygments_lexer": "ipython3",
   "version": "3.10.9"
  }
 },
 "nbformat": 4,
 "nbformat_minor": 5
}
